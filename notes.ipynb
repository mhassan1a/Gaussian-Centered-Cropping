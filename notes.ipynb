{
 "cells": [
  {
   "cell_type": "code",
   "execution_count": null,
   "metadata": {},
   "outputs": [],
   "source": [
    "import requests\n",
    "\n",
    "pic_url = 'https://images.pexels.com/photos/1108099/pexels-photo-1108099.jpeg?auto=compress&cs=tinysrgb&w=600'\n",
    "\n",
    "with open('pic1.jpg', 'wb') as handle:\n",
    "    response = requests.get(pic_url, stream=True)\n",
    "\n",
    "    if not response.ok:\n",
    "        print(response)\n",
    "\n",
    "    for block in response.iter_content(1024):\n",
    "        if not block:\n",
    "            break\n",
    "\n",
    "        handle.write(block)"
   ]
  }
 ],
 "metadata": {
  "language_info": {
   "name": "python"
  }
 },
 "nbformat": 4,
 "nbformat_minor": 2
}
