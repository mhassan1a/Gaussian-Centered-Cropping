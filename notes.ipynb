{
 "cells": [
  {
   "cell_type": "code",
   "execution_count": 1,
   "metadata": {},
   "outputs": [],
   "source": [
    "import requests\n",
    "\n",
    "pic_url = 'https://images.pexels.com/photos/1108099/pexels-photo-1108099.jpeg?auto=compress&cs=tinysrgb&w=600'\n",
    "\n",
    "with open('pic1.jpg', 'wb') as handle:\n",
    "    response = requests.get(pic_url, stream=True)\n",
    "\n",
    "    if not response.ok:\n",
    "        print(response)\n",
    "\n",
    "    for block in response.iter_content(1024):\n",
    "        if not block:\n",
    "            break\n",
    "\n",
    "        handle.write(block)"
   ]
  },
  {
   "cell_type": "code",
   "execution_count": 5,
   "metadata": {},
   "outputs": [],
   "source": [
    "from datetime import datetime\n",
    "import json\n",
    "\n",
    "results = {}\n",
    "results['epoch'] = 1\n",
    "results['num_classes_workers'] = 2\n",
    "results['hidden_dim'] = 0\n",
    "results['batch_size'] = 2\n",
    "date = datetime.now()\n",
    "with open(f'results_{date}_.json', 'w') as f:\n",
    "    json.dump(results, f)"
   ]
  }
 ],
 "metadata": {
  "kernelspec": {
   "display_name": "nlp",
   "language": "python",
   "name": "python3"
  },
  "language_info": {
   "codemirror_mode": {
    "name": "ipython",
    "version": 3
   },
   "file_extension": ".py",
   "mimetype": "text/x-python",
   "name": "python",
   "nbconvert_exporter": "python",
   "pygments_lexer": "ipython3",
   "version": "3.12.2"
  }
 },
 "nbformat": 4,
 "nbformat_minor": 2
}
